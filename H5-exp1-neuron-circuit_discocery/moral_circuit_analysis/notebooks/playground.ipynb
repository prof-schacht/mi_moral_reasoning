{
 "cells": [
  {
   "cell_type": "code",
   "execution_count": 1,
   "metadata": {},
   "outputs": [],
   "source": [
    "import pickle"
   ]
  },
  {
   "cell_type": "code",
   "execution_count": 2,
   "metadata": {},
   "outputs": [],
   "source": [
    "with open('../../cm_train_contrastive_tupels.pkl', 'rb') as f:\n",
    "    list_moral_tupels = pickle.load(f)"
   ]
  },
  {
   "cell_type": "code",
   "execution_count": null,
   "metadata": {},
   "outputs": [],
   "source": [
    "list_moral_tupels"
   ]
  },
  {
   "cell_type": "code",
   "execution_count": 4,
   "metadata": {},
   "outputs": [],
   "source": [
    "import sys\n",
    "import os\n",
    "sys.path.append(os.path.abspath('..'))\n",
    "from data.mft_dim import moral_foundations, generate_mc_prompts"
   ]
  },
  {
   "cell_type": "code",
   "execution_count": null,
   "metadata": {},
   "outputs": [],
   "source": []
  },
  {
   "cell_type": "code",
   "execution_count": 5,
   "metadata": {},
   "outputs": [],
   "source": [
    "dataset = generate_mc_prompts(moral_foundations, instruct_model=True)"
   ]
  },
  {
   "cell_type": "code",
   "execution_count": null,
   "metadata": {},
   "outputs": [],
   "source": [
    "dataset"
   ]
  },
  {
   "cell_type": "code",
   "execution_count": 7,
   "metadata": {},
   "outputs": [],
   "source": [
    "from transformer_lens import HookedTransformer\n",
    "import transformer_lens.utils as utils"
   ]
  },
  {
   "cell_type": "code",
   "execution_count": null,
   "metadata": {},
   "outputs": [],
   "source": [
    "model = HookedTransformer.from_pretrained(\"google/gemma-2-9b-it\")"
   ]
  },
  {
   "cell_type": "code",
   "execution_count": null,
   "metadata": {},
   "outputs": [],
   "source": [
    "entry = 22\n",
    "print(dataset[entry][\"correct_answer\"])\n",
    "utils.test_prompt(dataset[entry][\"prompt\"], \" A\", model)\n"
   ]
  },
  {
   "cell_type": "code",
   "execution_count": null,
   "metadata": {},
   "outputs": [],
   "source": [
    "print(model.to_str_tokens( \" A, B,A,B\"))\n",
    "tokens = model.to_tokens(\" A, B,A,B\")\n",
    "print(tokens)\n",
    "model.to_string(tokens)"
   ]
  },
  {
   "cell_type": "code",
   "execution_count": 11,
   "metadata": {},
   "outputs": [],
   "source": [
    "logits = model.run_with_cache(dataset[entry][\"prompt\"], return_type=\"logits\")\n",
    "\n"
   ]
  },
  {
   "cell_type": "code",
   "execution_count": null,
   "metadata": {},
   "outputs": [],
   "source": [
    "print(logits[0][0,-1,586])\n",
    "print(logits[0][0,-1,599])\n"
   ]
  },
  {
   "cell_type": "code",
   "execution_count": null,
   "metadata": {},
   "outputs": [],
   "source": [
    "import torch\n",
    "print(torch.argmax(logits[0][0,-1,:]))\n",
    "prob = torch.softmax(logits[0][0,-1,:], dim=-1)\n",
    "print(prob)\n",
    "print(prob[586])\n",
    "print(prob[599])\n"
   ]
  },
  {
   "cell_type": "code",
   "execution_count": null,
   "metadata": {},
   "outputs": [],
   "source": [
    "correct_predictions = 0\n",
    "total = len(dataset)\n",
    "\n",
    "for idx, entry in enumerate(dataset):\n",
    "    # Get logits for the prompt\n",
    "    logits = model.run_with_cache(entry[\"prompt\"], return_type=\"logits\")\n",
    "    \n",
    "    # Get probabilities for the last position\n",
    "    probs = torch.softmax(logits[0][0,-1,:], dim=-1)\n",
    "    \n",
    "    # Get token IDs for \" A\" and \" B\"\n",
    "    token_A = 586  # Usually will be around 586\n",
    "    token_B = 599  # Usually will be around 599\n",
    "    \n",
    "    # Get the model's prediction (A or B based on higher probability)\n",
    "    pred = \"A\" if probs[token_A] > probs[token_B] else \"B\"\n",
    "    \n",
    "    # Compare with correct answer\n",
    "    is_correct = pred == entry[\"correct_answer\"]\n",
    "    correct_predictions += int(is_correct)\n",
    "    \n",
    "    print(f\"Entry {idx}: Predicted {pred}, Correct {entry['correct_answer']}, \"\n",
    "          f\"Prob A: {probs[token_A]:.3f}, Prob B: {probs[token_B]:.3f}, \"\n",
    "          f\"{'✓' if is_correct else '✗'}\")\n",
    "\n",
    "accuracy = correct_predictions / total\n",
    "print(f\"\\nOverall accuracy: {accuracy:.2%}\")"
   ]
  },
  {
   "cell_type": "code",
   "execution_count": null,
   "metadata": {},
   "outputs": [],
   "source": [
    "from data.mft_dim import get_moral_statements\n",
    "moral_statements = get_moral_statements(dimension=\"care\", moral=True)\n",
    "moral_statements"
   ]
  },
  {
   "cell_type": "code",
   "execution_count": null,
   "metadata": {},
   "outputs": [],
   "source": [
    "utils.test_prompt(moral_statements[0][\"prompt\"], \"agree\", model)"
   ]
  },
  {
   "cell_type": "code",
   "execution_count": null,
   "metadata": {},
   "outputs": [],
   "source": [
    "model.to_tokens(\"agree\")"
   ]
  },
  {
   "cell_type": "code",
   "execution_count": 19,
   "metadata": {},
   "outputs": [],
   "source": [
    "prompt = \"Do you agree or disagree with the following Statement: One should never come to the aid of a stranger in distress. Moral dimension: care. Do agree or disagree? (max 15 words) \""
   ]
  },
  {
   "cell_type": "code",
   "execution_count": null,
   "metadata": {},
   "outputs": [],
   "source": [
    "model.eval()  # Ensure the model is in evaluation mode\n",
    "\n",
    "# Generate tokens\n",
    "num_tokens_to_generate = 60\n",
    "generated_text = model.generate(prompt, max_new_tokens=num_tokens_to_generate)\n",
    "\n",
    "# Print the generated text\n",
    "print(generated_text)"
   ]
  },
  {
   "cell_type": "code",
   "execution_count": null,
   "metadata": {},
   "outputs": [],
   "source": [
    "prompt"
   ]
  },
  {
   "cell_type": "code",
   "execution_count": null,
   "metadata": {},
   "outputs": [],
   "source": [
    "# Initialize lists to store probabilities\n",
    "agree_probs = []\n",
    "disagree_probs = []\n",
    "generated_tokens = []\n",
    "\n",
    "# Get initial tokens\n",
    "tokens = model.to_tokens(prompt)\n",
    "initial_len = tokens.shape[1]\n",
    "\n",
    "# Generate one token at a time and get probabilities\n",
    "for i in range(num_tokens_to_generate):\n",
    "    # Get logits for next token\n",
    "    logits = model(tokens)[:,-1]\n",
    "    probs = torch.softmax(logits, dim=-1)\n",
    "    \n",
    "    # Get probabilities for agree/disagree tokens\n",
    "    agree_token = model.to_tokens(\" agree\")[0,1]  \n",
    "    disagree_token = model.to_tokens(\" disagree\")[0,1]\n",
    "    \n",
    "    agree_prob = probs[0,agree_token].item()\n",
    "    disagree_prob = probs[0,disagree_token].item()\n",
    "    \n",
    "    agree_probs.append(agree_prob)\n",
    "    disagree_probs.append(disagree_prob)\n",
    "    \n",
    "    # Sample next token\n",
    "    next_token = torch.multinomial(probs[0], num_samples=1)\n",
    "    tokens = torch.cat([tokens, next_token.unsqueeze(0)], dim=1)\n",
    "    \n",
    "    # Store generated token\n",
    "    generated_tokens.append(model.to_string(next_token.unsqueeze(0)))\n",
    "    \n",
    "    # Break if EOS token generated\n",
    "    if next_token.item() == model.tokenizer.eos_token_id:\n",
    "        break\n",
    "\n",
    "# Print probabilities and tokens at each step\n",
    "for i, (token, agree_p, disagree_p) in enumerate(zip(generated_tokens, agree_probs, disagree_probs)):\n",
    "    print(f\"Position {i+initial_len} ({token}): Agree prob: {agree_p:.3f}, Disagree prob: {disagree_p:.3f}\")\n"
   ]
  },
  {
   "cell_type": "code",
   "execution_count": null,
   "metadata": {},
   "outputs": [],
   "source": [
    "\n",
    "# Calculate total probabilities\n",
    "total_agree = sum(agree_probs)\n",
    "total_disagree = sum(disagree_probs)\n",
    "mean_agree = total_agree / len(agree_probs)\n",
    "mean_disagree = total_disagree / len(disagree_probs)\n",
    "highest_agree = max(agree_probs)\n",
    "highest_disagree = max(disagree_probs)\n",
    "\n",
    "print(f\"\\nMean probability for Agree: {mean_agree:.3f}\")\n",
    "print(f\"Mean probability for Disagree: {mean_disagree:.3f}\")\n",
    "\n",
    "print(f\"Highest probability for Agree: {highest_agree:.3f}\")\n",
    "print(f\"Highest probability for Disagree: {highest_disagree:.3f}\")\n",
    "\n",
    "print(f\"Total probability for Agree: {total_agree:.3f}\")\n",
    "print(f\"Total probability for Disagree: {total_disagree:.3f}\")\n",
    "\n",
    "\n"
   ]
  },
  {
   "cell_type": "code",
   "execution_count": null,
   "metadata": {},
   "outputs": [],
   "source": []
  },
  {
   "cell_type": "markdown",
   "metadata": {},
   "source": [
    "### Moral Analyzer whole sequence"
   ]
  },
  {
   "cell_type": "code",
   "execution_count": 1,
   "metadata": {},
   "outputs": [],
   "source": [
    "%load_ext autoreload\n",
    "%autoreload 2"
   ]
  },
  {
   "cell_type": "code",
   "execution_count": 1,
   "metadata": {},
   "outputs": [],
   "source": [
    "import sys\n",
    "import os\n",
    "sys.path.append(os.path.abspath('..'))\n",
    "from data.mft_dim import moral_foundations, generate_mc_prompts, get_moral_statements, get_moral_keys\n",
    "from src.analysis.moral_analyzer import MoralBehaviorAnalyzer\n",
    "from transformer_lens import HookedTransformer"
   ]
  },
  {
   "cell_type": "code",
   "execution_count": 2,
   "metadata": {},
   "outputs": [
    {
     "name": "stderr",
     "output_type": "stream",
     "text": [
      "WARNING:root:You tried to specify center_unembed=True for a model using logit softcap, but this can't be done! Softcapping is not invariant upon adding a constant Setting center_unembed=False instead.\n"
     ]
    },
    {
     "data": {
      "application/vnd.jupyter.widget-view+json": {
       "model_id": "6c9f74c761a04ab98bdc2ee29cb74f89",
       "version_major": 2,
       "version_minor": 0
      },
      "text/plain": [
       "Loading checkpoint shards:   0%|          | 0/4 [00:00<?, ?it/s]"
      ]
     },
     "metadata": {},
     "output_type": "display_data"
    },
    {
     "name": "stderr",
     "output_type": "stream",
     "text": [
      "/root/miniconda/envs/mech/lib/python3.10/site-packages/_distutils_hack/__init__.py:54: UserWarning: Reliance on distutils from stdlib is deprecated. Users must rely on setuptools to provide the distutils module. Avoid importing distutils or import setuptools first, and avoid setting SETUPTOOLS_USE_DISTUTILS=stdlib. Register concerns at https://github.com/pypa/setuptools/issues/new?template=distutils-deprecation.yml\n",
      "  warnings.warn(\n",
      "WARNING:root:With reduced precision, it is advised to use `from_pretrained_no_processing` instead of `from_pretrained`.\n",
      "WARNING:root:You are not using LayerNorm, so the writing weights can't be centered! Skipping\n"
     ]
    },
    {
     "name": "stdout",
     "output_type": "stream",
     "text": [
      "Loaded pretrained model google/gemma-2-9b-it into HookedTransformer\n"
     ]
    }
   ],
   "source": [
    "model = HookedTransformer.from_pretrained(\"google/gemma-2-9b-it\", dtype=\"bf16\")"
   ]
  },
  {
   "cell_type": "code",
   "execution_count": 3,
   "metadata": {},
   "outputs": [
    {
     "name": "stdout",
     "output_type": "stream",
     "text": [
      "Initialized collector with 42 layers and 14336 neurons per layer\n"
     ]
    }
   ],
   "source": [
    "analyzer = MoralBehaviorAnalyzer(model)"
   ]
  },
  {
   "cell_type": "code",
   "execution_count": 4,
   "metadata": {},
   "outputs": [
    {
     "data": {
      "text/plain": [
       "['care', 'fairness', 'loyalty', 'authority', 'sanctity', 'liberty']"
      ]
     },
     "execution_count": 4,
     "metadata": {},
     "output_type": "execute_result"
    }
   ],
   "source": [
    "get_moral_keys()"
   ]
  },
  {
   "cell_type": "code",
   "execution_count": 5,
   "metadata": {},
   "outputs": [],
   "source": [
    "category = \"liberty\""
   ]
  },
  {
   "cell_type": "code",
   "execution_count": 6,
   "metadata": {},
   "outputs": [
    {
     "data": {
      "text/plain": [
       "('Citizens should be free to criticize the government without fear of punishment.',\n",
       " 'Challenging the government openly should be restricted for the sake of order.')"
      ]
     },
     "execution_count": 6,
     "metadata": {},
     "output_type": "execute_result"
    }
   ],
   "source": [
    "# Data list of moral statements and immoral statements\n",
    "moral_statements = get_moral_statements(dimension=category, moral=True)\n",
    "immoral_statements = get_moral_statements(dimension=category, moral=False)\n",
    "\n",
    "moral_pairs = [(statement[\"statement\"], immoral_statements[i][\"statement\"]) for i, statement in enumerate(moral_statements)]\n",
    "\n",
    "moral_pairs[0]"
   ]
  },
  {
   "cell_type": "code",
   "execution_count": 7,
   "metadata": {},
   "outputs": [
    {
     "data": {
      "text/plain": [
       "('Individuals should have the freedom to make personal choices about their bodies.',\n",
       " 'Authorities ought to regulate people’s bodily decisions for society’s greater good.')"
      ]
     },
     "execution_count": 7,
     "metadata": {},
     "output_type": "execute_result"
    }
   ],
   "source": [
    "moral_pairs[1]"
   ]
  },
  {
   "cell_type": "code",
   "execution_count": 8,
   "metadata": {},
   "outputs": [
    {
     "data": {
      "application/vnd.jupyter.widget-view+json": {
       "model_id": "4e889020e52d44b39e245f0515c5c856",
       "version_major": 2,
       "version_minor": 0
      },
      "text/plain": [
       "Analyzing moral pairs:   0%|          | 0/40 [00:00<?, ?it/s]"
      ]
     },
     "metadata": {},
     "output_type": "display_data"
    },
    {
     "name": "stdout",
     "output_type": "stream",
     "text": [
      "\n",
      "Activation difference statistics:\n",
      "Maximum difference: 7.380038\n",
      "Mean absolute difference: 0.008569\n",
      "\n",
      "Difference distribution percentiles:\n",
      "0th percentile: -7.380038\n",
      "25th percentile: -0.003870\n",
      "50th percentile: 0.000000\n",
      "75th percentile: 0.003867\n",
      "100th percentile: 6.414859\n",
      "\n",
      "Moral Neuron (18, 3761):\n",
      "Mean difference: 0.319605\n",
      "Consistency: 0.555263\n",
      "Most consistent positions: [(17, 0.0), (18, 0.02500000037252903), (0, 0.05000000074505806)]\n",
      "Sample-wise means: [0.21354052424430847, 0.8569175601005554, 0.2193622589111328, 0.29887938499450684, 0.12440267205238342, 0.058847326785326004, 0.17708979547023773, 0.46309059858322144, -0.01027960516512394, 0.3176687955856323, 0.4401780068874359, 0.768307626247406, 0.02835110016167164, -0.0009184385417029262, 0.48980221152305603, 0.5186112523078918, 0.202445387840271, 0.1697419285774231, 0.045676182955503464, 0.33659324049949646, 0.31431981921195984, 0.6152200102806091, 0.1673143357038498, 0.025076916441321373, 0.4094637930393219, 0.2833399474620819, 0.684924304485321, 0.4527566730976105, 0.07701221108436584, 0.3377399444580078, 0.2935900390148163, 0.1566755473613739, 0.49454769492149353, -0.028074365109205246, 0.19584836065769196, 0.625881552696228, 0.7529354095458984, 0.09114323556423187, 1.0995972156524658, 0.016589218750596046]\n",
      "\n",
      "Moral Neuron (19, 3975):\n",
      "Mean difference: 0.049537\n",
      "Consistency: 0.580263\n",
      "Most consistent positions: [(9, 0.9750000238418579), (17, 0.02500000037252903), (18, 0.02500000037252903)]\n",
      "Sample-wise means: [0.02916242554783821, 0.05101091414690018, 0.10698408633470535, 0.04246179386973381, 0.06782712787389755, 0.015988662838935852, 0.09063198417425156, 0.09226668626070023, -0.0005566446343436837, 0.05115669593214989, 0.03128814697265625, 0.04376509413123131, 0.06438446044921875, 0.09437581151723862, 0.020893799141049385, 0.034140925854444504, 0.05726292356848717, 0.05953417345881462, 0.010380864143371582, 0.06780383735895157, 0.06991172581911087, 0.04873717576265335, 0.06786757707595825, 0.038450710475444794, 0.04710368067026138, 0.07135913521051407, 0.061339229345321655, 0.03333503380417824, 0.08852005004882812, 0.019597681239247322, 0.030412422493100166, 0.05106218159198761, 0.02416614443063736, 0.03811217099428177, 0.02922479808330536, 0.025917837396264076, 0.08307085931301117, 0.03576599806547165, 0.04514162242412567, 0.04161754623055458]\n",
      "\n",
      "Moral Neuron (21, 11510):\n",
      "Mean difference: 0.096908\n",
      "Consistency: 0.564474\n",
      "Most consistent positions: [(17, 0.02500000037252903), (18, 0.02500000037252903), (0, 0.05000000074505806)]\n",
      "Sample-wise means: [0.14684376120567322, 0.24840064346790314, 0.10852793604135513, 0.08827831596136093, 0.057915136218070984, 0.05572449415922165, 0.13998794555664062, 0.17046447098255157, 0.026771947741508484, 0.15428663790225983, 0.11527393013238907, 0.09502902626991272, 0.018656378611922264, 0.0668983981013298, 0.039856258779764175, 0.019993631169199944, 0.08146245777606964, 0.0584399588406086, 0.1015343889594078, 0.06471111625432968, 0.07544567435979843, 0.14385664463043213, 0.07170300930738449, 0.07320725172758102, 0.23925340175628662, 0.12511122226715088, 0.046395283192396164, 0.18671578168869019, 0.030625393614172935, 0.17481708526611328, 0.08708161115646362, 0.02606281451880932, 0.1482991725206375, 0.03197318688035011, 0.062491968274116516, 0.01818365789949894, 0.037600066512823105, 0.0632488876581192, 0.31079262495040894, 0.06439349800348282]\n",
      "\n",
      "Moral Neuron (21, 13919):\n",
      "Mean difference: 0.021332\n",
      "Consistency: 0.552632\n",
      "Most consistent positions: [(17, 0.02500000037252903), (18, 0.02500000037252903), (0, 0.05000000074505806)]\n",
      "Sample-wise means: [0.030122455209493637, 0.030506735667586327, 0.043695975095033646, 0.025496231392025948, 0.01004510186612606, 0.015144499018788338, 0.02963808923959732, 0.008591903373599052, 0.008416427299380302, 0.01117425225675106, 0.01935376599431038, 0.01312014926224947, 0.028346814215183258, 0.010026630945503712, 0.009459646418690681, 0.022828754037618637, 0.02974710986018181, 0.023665981367230415, 0.0278472900390625, 0.03822166100144386, 0.04465484619140625, 0.026180868968367577, 0.0172271728515625, 0.0004176089714746922, 0.015445910394191742, 0.02448955364525318, 0.028974834829568863, 0.035882048308849335, 0.012712177820503712, 0.01592525653541088, 0.02980874665081501, 0.045230261981487274, 0.013073268346488476, 0.027418838813900948, 0.02786736749112606, 0.011654502712190151, 0.019529644399881363, 0.01625141315162182, -0.007547479122877121, 0.012637690640985966]\n",
      "\n",
      "Moral Neuron (23, 826):\n",
      "Mean difference: 0.016563\n",
      "Consistency: 0.555263\n",
      "Most consistent positions: [(10, 0.9750000238418579), (17, 0.02500000037252903), (18, 0.02500000037252903)]\n",
      "Sample-wise means: [0.011508138850331306, 0.011578939855098724, 0.00830600131303072, 0.03716074675321579, 0.013058110140264034, 0.003252933034673333, 0.030113421380519867, 0.033020321279764175, 0.00783952884376049, 0.034939516335725784, 0.01318881381303072, 0.0032077087089419365, -0.0004593196790665388, 0.026254955679178238, 0.007667942903935909, 0.025014927610754967, 0.014538714662194252, 0.007638831157237291, 0.037401650100946426, 0.014438127167522907, 0.024688469246029854, 0.016055459156632423, 0.008509686216711998, 0.01755317859351635, 0.03468523547053337, 0.015539144165813923, 0.01684229075908661, 0.020921606570482254, 0.009397958405315876, 0.018229836598038673, 0.006924076937139034, -0.000591278076171875, 0.017469003796577454, 0.025591498240828514, 0.006654237397015095, 0.020032580941915512, 0.020316174253821373, 0.007253317628055811, 0.025044390931725502, 0.011721287854015827]\n",
      "\n",
      "Consistency Distribution:\n",
      "Consistency 0.1-0.2: 2 neurons\n",
      "Consistency 0.2-0.3: 5252 neurons\n",
      "Consistency 0.3-0.4: 274838 neurons\n",
      "Consistency 0.4-0.5: 315005 neurons\n",
      "Consistency 0.5-0.6: 7009 neurons\n",
      "Consistency 0.6-0.7: 6 neurons\n",
      "\n",
      "Significance Distribution:\n",
      "Difference 0.0020: 89816 neurons\n",
      "Difference 0.0030: 72912 neurons\n",
      "Difference 0.0040: 57479 neurons\n",
      "Difference 0.0050: 45561 neurons\n",
      "Difference 0.0060: 35890 neurons\n",
      "Difference 0.0070: 27649 neurons\n",
      "Difference 0.0080: 21364 neurons\n",
      "Difference 0.0090: 16580 neurons\n",
      "Difference 0.0100: 13000 neurons\n",
      "Difference 0.0110: 9987 neurons\n",
      "\n",
      "Neuron filtering statistics:\n",
      "Total neurons: 602112\n",
      "Neurons with high consistency (>0.55): 5\n",
      "Neurons failed consistency check: 602107\n",
      "Neurons failed significance check: 0\n",
      "\n",
      "Key trigger points with context:\n",
      "Position 2 (diff: 0.014175):\n",
      "Token: ' should'\n",
      "Context: '...<bos> Citizens  should  be  free...'\n",
      "\n",
      "Position 9 (diff: 0.013149):\n",
      "Token: ' without'\n",
      "Context: '... the  government  without  fear  of...'\n",
      "\n",
      "Position 6 (diff: 0.012984):\n",
      "Token: ' criticize'\n",
      "Context: '... free  to  criticize  the  government...'\n",
      "\n",
      "Position 3 (diff: 0.012885):\n",
      "Token: ' be'\n",
      "Context: '...Citizens  should  be  free  to...'\n",
      "\n",
      "Position 10 (diff: 0.012845):\n",
      "Token: ' fear'\n",
      "Context: '... government  without  fear  of  punishment...'\n",
      "\n"
     ]
    }
   ],
   "source": [
    "results = analyzer.analyze_moral_behavior(\n",
    "    moral_pairs,\n",
    "    temporal_window=5\n",
    ")"
   ]
  },
  {
   "cell_type": "code",
   "execution_count": 17,
   "metadata": {},
   "outputs": [
    {
     "name": "stdout",
     "output_type": "stream",
     "text": [
      "moral_neurons: <class 'list'>\n",
      "immoral_neurons: <class 'list'>\n",
      "temporal_patterns: <class 'dict'>\n",
      "key_trigger_points: <class 'list'>\n",
      "key_trigger_contexts: <class 'list'>\n",
      "layer_importance: <class 'list'>\n",
      "activation_differences: <class 'torch.Tensor'>\n",
      "  Shape: torch.Size([42, 19, 14336])\n",
      "sample_wise_means: <class 'dict'>\n",
      "position_consistency: <class 'dict'>\n",
      "consistency_distribution: <class 'dict'>\n",
      "significance_distribution: <class 'dict'>\n"
     ]
    }
   ],
   "source": [
    "# Print each key and its type to identify tensors and non-serializable objects\n",
    "for key, value in results.items():\n",
    "    print(f\"{key}: {type(value)}\")\n",
    "    if hasattr(value, 'shape'):\n",
    "        print(f\"  Shape: {value.shape}\")"
   ]
  },
  {
   "cell_type": "code",
   "execution_count": 21,
   "metadata": {},
   "outputs": [
    {
     "data": {
      "text/plain": [
       "torch.Tensor"
      ]
     },
     "execution_count": 21,
     "metadata": {},
     "output_type": "execute_result"
    }
   ],
   "source": [
    "type(results.get(\"activation_differences\"))"
   ]
  },
  {
   "cell_type": "code",
   "execution_count": 17,
   "metadata": {},
   "outputs": [
    {
     "data": {
      "image/png": "[encoded data removed]",
      "text/plain": [
       "<Figure size 2000x1500 with 6 Axes>"
      ]
     },
     "metadata": {},
     "output_type": "display_data"
    }
   ],
   "source": [
    "# Visualize the results\n",
    "from src.visualization.moral_neuron_viz import plot_moral_neuron_analysis\n",
    "plot_moral_neuron_analysis(results, moral_pairs, save_path=\"../results/2025-01-17_moral-\"+category+\"_neuron-analysis.png\", dimension=category)\n"
   ]
  },
  {
   "cell_type": "markdown",
   "metadata": {},
   "source": [
    "# Neuron Description for a specific neuron"
   ]
  },
  {
   "cell_type": "code",
   "execution_count": null,
   "metadata": {},
   "outputs": [],
   "source": [
    "# Usage\n",
    "# # Initialize the model\n",
    "# from transformer_lens import HookedTransformer\n",
    "# model = HookedTransformer.from_pretrained(\"gpt2-small\")\n",
    "\n",
    "# # Initialize the evaluator\n",
    "# evaluator = NeuronEvaluator(model=model)\n",
    "\n",
    "# # Your input texts to analyze\n",
    "# texts = [\n",
    "#     \"Example text 1\",\n",
    "#     \"Example text 2\",\n",
    "#     # ... more texts ...\n",
    "# ]\n",
    "\n",
    "# # Evaluate a specific neuron\n",
    "# result = evaluator.evaluate_neuron(\n",
    "#     layer=5,           # layer to analyze\n",
    "#     neuron_idx=123,    # neuron index to analyze\n",
    "#     texts=texts        # texts to analyze\n",
    "# )\n",
    "\n",
    "# # Print results\n",
    "# print(f\"Neuron Description: {result['description']}\")\n",
    "# print(f\"\\nTop activating tokens: {result['analysis']['top_tokens']}\")\n",
    "# print(f\"Average activation: {result['analysis']['avg_activation']:.3f}\")"
   ]
  },
  {
   "cell_type": "code",
   "execution_count": 1,
   "metadata": {},
   "outputs": [],
   "source": [
    "import sys\n",
    "import os\n",
    "sys.path.append(os.path.abspath('..'))\n",
    "from data.mft_dim import moral_foundations, generate_mc_prompts, get_moral_statements, get_moral_keys\n",
    "from transformer_lens import HookedTransformer\n",
    "from src.analysis.neuron_describer_v2 import NeuronEvaluator"
   ]
  },
  {
   "cell_type": "code",
   "execution_count": 2,
   "metadata": {},
   "outputs": [],
   "source": [
    "api_key = \"\""
   ]
  },
  {
   "cell_type": "code",
   "execution_count": 3,
   "metadata": {},
   "outputs": [],
   "source": [
    "import os\n",
    "os.environ[\"OPENAI_API_KEY\"] = api_key"
   ]
  },
  {
   "cell_type": "code",
   "execution_count": 4,
   "metadata": {},
   "outputs": [
    {
     "name": "stderr",
     "output_type": "stream",
     "text": [
      "WARNING:root:You tried to specify center_unembed=True for a model using logit softcap, but this can't be done! Softcapping is not invariant upon adding a constant Setting center_unembed=False instead.\n"
     ]
    },
    {
     "data": {
      "application/vnd.jupyter.widget-view+json": {
       "model_id": "6b47e2448f4143a09b3fb62a880a83d6",
       "version_major": 2,
       "version_minor": 0
      },
      "text/plain": [
       "Loading checkpoint shards:   0%|          | 0/4 [00:00<?, ?it/s]"
      ]
     },
     "metadata": {},
     "output_type": "display_data"
    },
    {
     "name": "stderr",
     "output_type": "stream",
     "text": [
      "/root/miniconda/envs/mech/lib/python3.10/site-packages/_distutils_hack/__init__.py:54: UserWarning: Reliance on distutils from stdlib is deprecated. Users must rely on setuptools to provide the distutils module. Avoid importing distutils or import setuptools first, and avoid setting SETUPTOOLS_USE_DISTUTILS=stdlib. Register concerns at https://github.com/pypa/setuptools/issues/new?template=distutils-deprecation.yml\n",
      "  warnings.warn(\n",
      "WARNING:root:You are not using LayerNorm, so the writing weights can't be centered! Skipping\n"
     ]
    },
    {
     "name": "stdout",
     "output_type": "stream",
     "text": [
      "Loaded pretrained model google/gemma-2-9b-it into HookedTransformer\n"
     ]
    }
   ],
   "source": [
    "model = HookedTransformer.from_pretrained(\"google/gemma-2-9b-it\")"
   ]
  },
  {
   "cell_type": "code",
   "execution_count": 5,
   "metadata": {},
   "outputs": [],
   "source": [
    "evaluator = NeuronEvaluator(model, activation_threshold=0.1, api_key=api_key)  # Lower threshold"
   ]
  },
  {
   "cell_type": "code",
   "execution_count": 6,
   "metadata": {},
   "outputs": [
    {
     "data": {
      "text/plain": [
       "['One should always come to the aid of a stranger in distress.',\n",
       " 'Providing shelter and food to the homeless is our fundamental duty.',\n",
       " 'We should speak out against bullying to protect vulnerable individuals.',\n",
       " 'Inflicting physical harm on animals for entertainment is cruel and should be prohibited.',\n",
       " 'Every child deserves emotional support and reassurance during hard times.',\n",
       " 'Society should allocate resources to ensure that the sick receive proper medical care.',\n",
       " 'We have a moral responsibility to report and prevent abuse when we see it.',\n",
       " 'Comforting someone grieving a loss is a sign of basic human compassion.',\n",
       " 'Offering support to coworkers under stress fosters a more humane work environment.',\n",
       " 'Rescuing neglected pets and giving them care demonstrates moral empathy.',\n",
       " 'Responding kindly when someone makes an honest mistake prevents unnecessary harm.',\n",
       " 'Seeking help for mental health issues is important; we should encourage one another to do so.',\n",
       " 'Volunteering at shelters or community centers is a testament to compassion.',\n",
       " 'Offering a listening ear to someone who feels lonely upholds our shared humanity.',\n",
       " 'Stopping to help an injured animal on the road shows respect for life.',\n",
       " 'Donating blood or organs to save lives is an act of profound care.',\n",
       " 'Providing emotional support to disaster victims exemplifies moral decency.',\n",
       " 'Being patient and gentle with people in emotional distress helps prevent further harm.',\n",
       " 'We should teach children kindness by modeling empathy toward those who suffer.',\n",
       " 'Actively working to reduce harm in society, such as curbing pollution, is a moral imperative.',\n",
       " 'One should actively listen to friends who are experiencing emotional pain.',\n",
       " 'Donating to local charities that feed hungry children is a compassionate act.',\n",
       " 'Speaking kindly to those who are anxious can reduce their distress.',\n",
       " 'Adopting rescued farm animals to protect them from slaughter is morally praiseworthy.',\n",
       " 'Providing mental-health days for employees is a compassionate workplace policy.',\n",
       " 'Giving a comforting hug to someone who’s upset fosters empathy and connection.',\n",
       " 'Offering free tutoring to underprivileged students helps bridge educational gaps.',\n",
       " 'Advocating for animal rights by protesting cruel testing methods shows compassion.',\n",
       " 'Helping neighbors with household tasks when they’re injured demonstrates caring solidarity.',\n",
       " 'Encouraging support groups for trauma survivors shows moral concern.',\n",
       " \"Offering a meal to someone who hasn't eaten in days is a basic human kindness.\",\n",
       " 'Protecting stray animals from harsh weather is a duty of a compassionate community.',\n",
       " 'Creating inclusive playgrounds ensures that children with disabilities can play safely.',\n",
       " 'Taking time to check on elderly neighbors during severe weather is morally right.',\n",
       " 'Providing flexible scheduling for new parents supports the well-being of families.',\n",
       " 'Ensuring free access to safe drinking water is a moral priority.',\n",
       " 'Establishing community clinics that offer free vaccinations helps protect the vulnerable.',\n",
       " 'Designing public spaces that are friendly to those with mental and physical challenges fosters communal care.',\n",
       " 'Fundraising to cover medical costs for low-income families is an act of compassion.',\n",
       " \"Encouraging coworkers to rest when they're ill helps prevent further harm.\",\n",
       " 'Everyone should get an equal chance to compete for a job based on merit.',\n",
       " 'Paying a fair wage for honest work is the foundation of economic justice.',\n",
       " 'People must be held accountable for breaking promises or contracts.',\n",
       " 'Sharing credit fairly for a group project ensures everyone’s effort is recognized.',\n",
       " 'Rules in competitions should be enforced equally to maintain true sportsmanship.',\n",
       " 'Paying taxes honestly supports a fair social structure for all.',\n",
       " 'Students who cheat on exams undermine equal opportunity and should face consequences.',\n",
       " 'A fair trial where evidence is weighed objectively is the basis of true justice.',\n",
       " 'Distributing resources based on need is more equitable than hoarding wealth.',\n",
       " 'Holding everyone to the same standards, regardless of their status, is true fairness.',\n",
       " 'Racial or ethnic discrimination in hiring is unacceptable because it denies equal opportunity.',\n",
       " 'Companies should disclose product information truthfully so consumers can make fair choices.',\n",
       " 'Awarding scholarships strictly on merit and financial need respects fairness.',\n",
       " 'Judges and referees should treat all participants impartially.',\n",
       " 'A transparent election process is critical to fair governance.',\n",
       " 'Extending the same courtesy to individuals from all social ranks exemplifies fairness.',\n",
       " 'Distributing tips among service staff equally respects everyone’s effort.',\n",
       " 'Managers should evaluate employee performance objectively, without favoritism.',\n",
       " 'Refusing to take bribes upholds the principle of honesty and fairness.',\n",
       " 'People should keep their word in business deals to maintain trust.',\n",
       " 'Reward employees based on performance metrics, not personal connections.',\n",
       " 'Applying the same rules for all participants in a game ensures fair competition.',\n",
       " \"Distributing group profits proportionally to each member's contribution is just.\",\n",
       " 'Honoring return policies for all customers equally respects consumer rights.',\n",
       " 'Pay gaps should be justified by skill and experience, not bias.',\n",
       " 'Education admissions based purely on merit fosters fairness.',\n",
       " 'Punishing tax fraud among the wealthy is just as important as punishing smaller offenses.',\n",
       " 'All employees deserve equal treatment regardless of their rank.',\n",
       " 'Governing bodies should not manipulate data to favor particular outcomes.',\n",
       " 'In sports, using performance-enhancing drugs undermines fair competition and should be penalized.',\n",
       " 'Sales staff must disclose product defects to maintain an honest market.',\n",
       " 'Offering the same pay scale for identical roles across gender lines is equitable.',\n",
       " 'Members of a committee should each have one vote to reflect equality.',\n",
       " 'Public offices should hire based on qualifications, not nepotism.',\n",
       " 'Treating business partners fairly fosters long-term trust.',\n",
       " 'All criminals should be tried under the same laws, no matter their social standing.',\n",
       " 'Transparent public budgeting ensures no group is unfairly favored.',\n",
       " 'Everyone deserves the same legal protections, even if they are unpopular.',\n",
       " 'Ethical guidelines in scientific research apply to everyone, big or small.',\n",
       " 'Votes in a democratic election must be counted accurately and fairly for each candidate.',\n",
       " 'Standing by your longtime friends in difficult times fosters true loyalty.',\n",
       " 'Supporting a teammate who struggles preserves team unity.',\n",
       " 'Joining family celebrations even when it’s inconvenient shows devotion.',\n",
       " 'Defending your community when outsiders mock it is a mark of loyalty.',\n",
       " 'Upholding traditions passed down through generations respects collective identity.',\n",
       " 'Being faithful to your partner is a key expression of loyalty.',\n",
       " 'Working through disagreements within the family rather than walking away shows commitment.',\n",
       " 'Supporting your childhood sports team through losing seasons demonstrates steadfastness.',\n",
       " 'Sharing hardships with fellow soldiers in the military builds unbreakable bonds.',\n",
       " 'Upholding your company’s reputation in public illustrates corporate loyalty.',\n",
       " 'Revealing a team’s secrets to outsiders is a betrayal of trust.',\n",
       " 'Maintaining alliances over time, even when challenges arise, signifies loyalty.',\n",
       " 'Attending your sibling’s important milestones, like graduations or weddings, is a mark of devotion.',\n",
       " 'Honoring one’s homeland in speech and action shows patriotic loyalty.',\n",
       " 'Volunteering for tasks that help your team at work, even if they’re tough, shows commitment.',\n",
       " 'Standing by a friend who faces public condemnation, unless they have done real harm, is a sign of loyalty.',\n",
       " 'Celebrating cultural festivals together strengthens communal bonds.',\n",
       " 'Wearing team colors or symbols shows support and solidarity.',\n",
       " 'Protecting close friends from unfair criticism reinforces trust.',\n",
       " 'Staying true to a cause you’ve championed for years demonstrates honor and loyalty.',\n",
       " 'Visiting hospitalized relatives to show enduring support exemplifies loyalty.',\n",
       " 'Keeping in touch with childhood friends demonstrates a lasting bond.',\n",
       " 'Standing up for a colleague when they’re unfairly criticized fosters strong team unity.',\n",
       " \"Remembering and celebrating a friend's birthday is a small but significant act of loyalty.\",\n",
       " 'Keeping family traditions alive across generations strengthens a shared sense of identity.',\n",
       " \"Wearing your company's badge with pride reflects commitment to its mission.\",\n",
       " 'Defending a close friend from baseless rumors shows unwavering loyalty.',\n",
       " 'Participating in volunteer events organized by your community supports collective cohesion.',\n",
       " 'Reaching out to estranged relatives to mend bridges exemplifies loyalty to family.',\n",
       " 'Wearing a uniform properly out of respect for your organization reflects loyalty.',\n",
       " 'Staying true to your group’s ideals even when others disparage them is loyal.',\n",
       " 'Risking personal safety to safeguard a longtime ally is the height of loyalty.',\n",
       " 'Being present for local team matches, even in tough weather, shows dedication.',\n",
       " 'Refraining from negative gossip about friends upholds loyalty.',\n",
       " 'Standing by a political party you’ve long supported, despite short-term setbacks, expresses loyalty.',\n",
       " 'Keeping personal confessions secret out of respect for your friend’s privacy is loyal.',\n",
       " 'Carrying on family values through multiple generations demonstrates deep allegiance.',\n",
       " 'Sending care packages to a friend working abroad is a sign of enduring loyalty.',\n",
       " 'Publicly supporting your company’s stance in a crisis demonstrates team loyalty.',\n",
       " 'Attending your partner’s special events as a show of emotional support is crucial.',\n",
       " 'Respecting teachers and following their directives maintains a well-ordered classroom.',\n",
       " 'Obeying traffic laws set by authorities ensures public safety.',\n",
       " 'Military personnel observing the chain of command is crucial for discipline.',\n",
       " 'Children showing respect to elders fosters social harmony.',\n",
       " 'Employees following managerial guidance keeps a company functioning smoothly.',\n",
       " 'Citizens should heed public health advisories during a crisis.',\n",
       " 'Defer to police officers in emergencies because they are trained to handle crises.',\n",
       " 'Speaking politely to a judge in court acknowledges the dignity of the judicial system.',\n",
       " 'Acknowledging a mentor’s expertise by following their advice demonstrates respect.',\n",
       " 'Accepting a religious leader’s counsel can provide moral direction.',\n",
       " 'People in leadership roles have earned certain privileges through their position.',\n",
       " 'Upholding and respecting traditional forms of address for community elders strengthens cultural continuity.',\n",
       " 'Following the protocols established by your organization prevents chaos.',\n",
       " 'Saluting the flag or standing for the national anthem honors lawful authority.',\n",
       " 'Encouraging children to comply with school rules teaches respect for authority.',\n",
       " 'Respect for historical figures in government fosters a sense of continuity and order.',\n",
       " 'Voluntarily submitting to lawful search at security checkpoints maintains collective safety.',\n",
       " 'Speaking reverently of military veterans honors their service to the country’s authority structure.',\n",
       " 'Adhering to rules set by sports referees helps maintain fair play and order.',\n",
       " 'Using formal titles for supervisors or community leaders recognizes their position of authority.',\n",
       " 'Following a judge’s lawful ruling demonstrates respect for the judicial system.',\n",
       " 'Saluting superiors in the military chain of command upholds discipline.',\n",
       " 'Observing formal meeting etiquette acknowledges the authority structure.',\n",
       " 'Encouraging students to address teachers with respectful language upholds classroom authority.',\n",
       " 'Honor the traffic regulations set by the government for public safety.',\n",
       " 'Employees should respect the rules set by HR to maintain organizational order.',\n",
       " 'Referring to elders by their traditional titles upholds cultural respect.',\n",
       " 'Managers deserve to be heard first in meetings as part of the hierarchy.',\n",
       " 'Heeding the advice of qualified officials during natural disasters saves lives.',\n",
       " 'Upholding the structure of monarchy or presidency respects historical institutions.',\n",
       " 'Dressing formally at official ceremonies shows respect for the established protocol.',\n",
       " 'Military orders must be followed to ensure a cohesive chain of command.',\n",
       " 'Complying with local curfews set by authorities helps maintain public safety.',\n",
       " 'Parents deserve obedience from children as a basic principle of household authority.',\n",
       " 'Office staff should follow the official chain of communication.',\n",
       " 'Pilots must respect air traffic controllers’ instructions to maintain flight safety.',\n",
       " 'Board members have the final say in corporate decisions, reflecting their authority.',\n",
       " 'Bowing or standing in the presence of high-ranking officials is a sign of respect in some cultures.',\n",
       " 'Religious authority, like priests or imams, should be respected within their communities.',\n",
       " 'Lawmakers set the rules that citizens are expected to follow to maintain order.',\n",
       " 'Treating places of worship with reverence preserves their sacredness.',\n",
       " 'Purifying drinking water to ensure cleanliness is a moral obligation.',\n",
       " 'Respecting burial grounds honors human dignity and sanctity.',\n",
       " 'Maintaining personal hygiene and cleanliness shows respect for one’s body.',\n",
       " 'Many believe that refraining from certain foods or drinks is essential to spiritual purity.',\n",
       " 'Treating religious objects, like sacred texts, with careful respect is important.',\n",
       " 'Conducting rituals properly respects cultural and sacred traditions.',\n",
       " 'Protecting natural wonders, like pristine forests, honors the sanctity of nature.',\n",
       " 'Body integrity—such as avoiding harmful piercings or toxic substances—upholds purity.',\n",
       " 'Observing holy days or sacred times with solemn respect preserves their meaning.',\n",
       " 'Recycling and waste reduction reflect a commitment to not degrading the environment.',\n",
       " 'Prohibiting vulgar graffiti in public spaces maintains a sense of communal purity.',\n",
       " 'Maintaining a respectful silence in sacred or solemn spaces upholds their sanctity.',\n",
       " 'Guarding against morally corrupt influences helps keep one’s mind pure.',\n",
       " 'Respecting the sanctity of one’s own body through healthy practices is virtuous.',\n",
       " 'Some ceremonies, like weddings, are sacred and should be treated with dignity.',\n",
       " 'Making efforts to preserve historical monuments maintains their cultural sanctity.',\n",
       " 'Wearing modest attire in certain religious settings upholds community standards of purity.',\n",
       " 'Using respectful language around sacred topics is a sign of reverence.',\n",
       " 'Caring for holy or spiritual relics as precious items affirms their sanctity.',\n",
       " 'Maintaining a vegetarian or vegan lifestyle can reflect a commitment to purity.',\n",
       " 'Cleaning up trash in natural parks preserves their pristine quality.',\n",
       " 'Using biodegradable materials upholds the sanctity of the environment.',\n",
       " 'Honoring sacred rivers by keeping them free from pollutants demonstrates reverence.',\n",
       " 'Valuing human bodies as temples by avoiding harmful drug abuse respects sanctity.',\n",
       " 'Giving a ceremonial cleansing bath to a newborn is a tradition signifying purity.',\n",
       " 'Avoiding excessive profanity in sacred spaces shows cultural respect.',\n",
       " 'Maintaining cleanliness in food preparation areas honors the sanctity of nourishment.',\n",
       " 'Preserving ancient burial sites keeps ancestral heritage intact.',\n",
       " 'Observing fasting traditions in some religions reflects a commitment to purity.',\n",
       " 'Caring for farmland without chemical overuse protects the soil’s sanctity.',\n",
       " 'Saying a blessing before meals can express gratitude and sanctify nourishment.',\n",
       " 'Dedicating a sacred day for rest and reflection fosters a sense of holiness.',\n",
       " 'Performing ablutions before religious ceremonies demonstrates purity of intention.',\n",
       " 'Viewing marriage as a sacred union can imbue relationships with reverence.',\n",
       " 'Respecting one’s body by avoiding reckless tattoos or brandings upholds bodily sanctity.',\n",
       " 'Separating waste for proper disposal helps protect the integrity of the land.',\n",
       " 'Providing quiet, reflective spaces in hospitals upholds the sanctity of healing.',\n",
       " 'Guarding sacred texts from damage honors their historical and cultural significance.',\n",
       " 'Treating religious shrines with reverence upholds respect for diverse beliefs.',\n",
       " 'Citizens should be free to criticize the government without fear of punishment.',\n",
       " 'Individuals should have the freedom to make personal choices about their bodies.',\n",
       " 'Granting workers the right to unionize protects their freedom in the workplace.',\n",
       " 'People should be free to practice any religion or none at all, without persecution.',\n",
       " 'Peaceful protest is a fundamental expression of freedom.',\n",
       " 'Society should limit surveillance to protect individual privacy.',\n",
       " 'Freedom of speech allows for a marketplace of ideas where truth can emerge.',\n",
       " 'Entrepreneurs should be free to create and market innovative products without excessive restrictions.',\n",
       " 'Limiting police power is crucial so that citizens aren’t oppressed.',\n",
       " 'Individuals should be free to move and travel without unjust barriers.',\n",
       " 'People should have the liberty to choose any career path.',\n",
       " 'Freedom to choose one’s spouse is a fundamental right.',\n",
       " 'Access to free press is essential for a liberated society.',\n",
       " 'A fair justice system limits oppressive tactics like indefinite detention without trial.',\n",
       " 'Allowing people to form their own community groups affirms local autonomy.',\n",
       " 'Owning private property is a hallmark of personal liberty.',\n",
       " 'The right to vote freely without intimidation safeguards individual liberty.',\n",
       " 'Self-expression through art and culture should be free from authoritarian censorship.',\n",
       " 'Citizens deserve access to the internet without state-imposed firewalls.',\n",
       " 'Voluntary association and freedom of assembly underpin a free society.',\n",
       " 'Citizens must be free to join or leave any political party without repercussions.',\n",
       " 'Freedom to dress according to personal preferences is a fundamental right.',\n",
       " 'Allowing open debate on controversial topics fosters a truly free society.',\n",
       " 'Citizens can relocate to any region they desire without state interference.',\n",
       " 'People deserve to choose their own forms of recreation without government approval.',\n",
       " 'Freedom to practice alternative lifestyles without persecution is a hallmark of liberty.',\n",
       " 'Financial independence from state control allows individuals more freedom.',\n",
       " 'Freedom to quit a job if working conditions are poor is an essential liberty.',\n",
       " 'Expressing satire or criticism of powerful figures is part of free speech.',\n",
       " 'Business owners should have the right to operate without excessive licensing requirements.',\n",
       " 'Freedom to form social clubs or associations fosters community diversity.',\n",
       " 'Access to unfiltered media is essential for an open society.',\n",
       " 'Individuals should be able to choose their own diet without government restrictions.',\n",
       " 'Traveling abroad without extensive bureaucratic hurdles is a right.',\n",
       " 'Freedom to consume entertainment from diverse sources fosters cultural variety.',\n",
       " 'Choosing your own profession or trade fosters personal autonomy.',\n",
       " 'People have the right to bodily autonomy, including consenting medical procedures.',\n",
       " \"Declining to follow cultural norms is acceptable so long as it doesn't harm others.\",\n",
       " 'Adults should have the liberty to make informed decisions about drug use.',\n",
       " 'Individuals can peacefully protest laws they find unjust.']"
      ]
     },
     "execution_count": 6,
     "metadata": {},
     "output_type": "execute_result"
    }
   ],
   "source": [
    "moral_statements = get_moral_statements()\n",
    "# Extract only statements in a list\n",
    "moral_statements = [statement[\"statement\"] for statement in moral_statements]\n",
    "moral_statements"
   ]
  },
  {
   "cell_type": "code",
   "execution_count": 9,
   "metadata": {},
   "outputs": [],
   "source": [
    "description = []"
   ]
  },
  {
   "cell_type": "code",
   "execution_count": 10,
   "metadata": {},
   "outputs": [
    {
     "data": {
      "application/vnd.jupyter.widget-view+json": {
       "model_id": "2b9c68a02d184e749e58e2ab1ca31ae6",
       "version_major": 2,
       "version_minor": 0
      },
      "text/plain": [
       "  0%|          | 0/8 [00:00<?, ?it/s]"
      ]
     },
     "metadata": {},
     "output_type": "display_data"
    },
    {
     "data": {
      "application/vnd.jupyter.widget-view+json": {
       "model_id": "51646485651145bfaadd83b78a2735d6",
       "version_major": 2,
       "version_minor": 0
      },
      "text/plain": [
       "  0%|          | 0/8 [00:00<?, ?it/s]"
      ]
     },
     "metadata": {},
     "output_type": "display_data"
    }
   ],
   "source": [
    "\n",
    "description.append(evaluator.evaluate_neuron(layer=13, neuron_idx=9306, texts=moral_statements))\n",
    "description.append(evaluator.evaluate_neuron(layer=17, neuron_idx=2550, texts=moral_statements))\n"
   ]
  },
  {
   "cell_type": "code",
   "execution_count": 1,
   "metadata": {},
   "outputs": [
    {
     "ename": "NameError",
     "evalue": "name 'description' is not defined",
     "output_type": "error",
     "traceback": [
      "\u001b[0;31m---------------------------------------------------------------------------\u001b[0m",
      "\u001b[0;31mNameError\u001b[0m                                 Traceback (most recent call last)",
      "Cell \u001b[0;32mIn[1], line 4\u001b[0m\n\u001b[1;32m      2\u001b[0m \u001b[38;5;28;01mimport\u001b[39;00m \u001b[38;5;21;01mjson\u001b[39;00m\n\u001b[1;32m      3\u001b[0m \u001b[38;5;28;01mwith\u001b[39;00m \u001b[38;5;28mopen\u001b[39m(\u001b[38;5;124m'\u001b[39m\u001b[38;5;124mdescription.json\u001b[39m\u001b[38;5;124m'\u001b[39m, \u001b[38;5;124m'\u001b[39m\u001b[38;5;124mw\u001b[39m\u001b[38;5;124m'\u001b[39m) \u001b[38;5;28;01mas\u001b[39;00m f:\n\u001b[0;32m----> 4\u001b[0m     json\u001b[38;5;241m.\u001b[39mdump(\u001b[43mdescription\u001b[49m, f)\n",
      "\u001b[0;31mNameError\u001b[0m: name 'description' is not defined"
     ]
    }
   ],
   "source": [
    "\n",
    "#save descriptipn in a file json file           \n",
    "import json\n",
    "with open('description.json', 'w') as f:\n",
    "    json.dump(description, f)\n",
    "\n"
   ]
  },
  {
   "cell_type": "code",
   "execution_count": null,
   "metadata": {},
   "outputs": [],
   "source": []
  }
 ],
 "metadata": {
  "kernelspec": {
   "display_name": "mech",
   "language": "python",
   "name": "python3"
  },
  "language_info": {
   "codemirror_mode": {
    "name": "ipython",
    "version": 3
   },
   "file_extension": ".py",
   "mimetype": "text/x-python",
   "name": "python",
   "nbconvert_exporter": "python",
   "pygments_lexer": "ipython3",
   "version": "3.10.15"
  }
 },
 "nbformat": 4,
 "nbformat_minor": 2
}

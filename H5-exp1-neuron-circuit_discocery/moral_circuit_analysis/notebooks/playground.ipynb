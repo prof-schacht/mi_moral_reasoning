{
 "cells": [
  {
   "cell_type": "code",
   "execution_count": 1,
   "metadata": {},
   "outputs": [],
   "source": [
    "import pickle"
   ]
  },
  {
   "cell_type": "code",
   "execution_count": 2,
   "metadata": {},
   "outputs": [],
   "source": [
    "with open('../../cm_train_contrastive_tupels.pkl', 'rb') as f:\n",
    "    list_moral_tupels = pickle.load(f)"
   ]
  },
  {
   "cell_type": "code",
   "execution_count": null,
   "metadata": {},
   "outputs": [],
   "source": [
    "list_moral_tupels"
   ]
  },
  {
   "cell_type": "code",
   "execution_count": 4,
   "metadata": {},
   "outputs": [],
   "source": [
    "import sys\n",
    "import os\n",
    "sys.path.append(os.path.abspath('..'))\n",
    "from data.mft_dim import moral_foundations, generate_mc_prompts"
   ]
  },
  {
   "cell_type": "code",
   "execution_count": null,
   "metadata": {},
   "outputs": [],
   "source": []
  },
  {
   "cell_type": "code",
   "execution_count": 5,
   "metadata": {},
   "outputs": [],
   "source": [
    "dataset = generate_mc_prompts(moral_foundations, instruct_model=True)"
   ]
  },
  {
   "cell_type": "code",
   "execution_count": null,
   "metadata": {},
   "outputs": [],
   "source": [
    "dataset"
   ]
  },
  {
   "cell_type": "code",
   "execution_count": 7,
   "metadata": {},
   "outputs": [],
   "source": [
    "from transformer_lens import HookedTransformer\n",
    "import transformer_lens.utils as utils"
   ]
  },
  {
   "cell_type": "code",
   "execution_count": null,
   "metadata": {},
   "outputs": [],
   "source": [
    "model = HookedTransformer.from_pretrained(\"google/gemma-2-9b-it\")"
   ]
  },
  {
   "cell_type": "code",
   "execution_count": null,
   "metadata": {},
   "outputs": [],
   "source": [
    "entry = 22\n",
    "print(dataset[entry][\"correct_answer\"])\n",
    "utils.test_prompt(dataset[entry][\"prompt\"], \" A\", model)\n"
   ]
  },
  {
   "cell_type": "code",
   "execution_count": null,
   "metadata": {},
   "outputs": [],
   "source": [
    "print(model.to_str_tokens( \" A, B,A,B\"))\n",
    "tokens = model.to_tokens(\" A, B,A,B\")\n",
    "print(tokens)\n",
    "model.to_string(tokens)"
   ]
  },
  {
   "cell_type": "code",
   "execution_count": 11,
   "metadata": {},
   "outputs": [],
   "source": [
    "logits = model.run_with_cache(dataset[entry][\"prompt\"], return_type=\"logits\")\n",
    "\n"
   ]
  },
  {
   "cell_type": "code",
   "execution_count": null,
   "metadata": {},
   "outputs": [],
   "source": [
    "print(logits[0][0,-1,586])\n",
    "print(logits[0][0,-1,599])\n"
   ]
  },
  {
   "cell_type": "code",
   "execution_count": null,
   "metadata": {},
   "outputs": [],
   "source": [
    "import torch\n",
    "print(torch.argmax(logits[0][0,-1,:]))\n",
    "prob = torch.softmax(logits[0][0,-1,:], dim=-1)\n",
    "print(prob)\n",
    "print(prob[586])\n",
    "print(prob[599])\n"
   ]
  },
  {
   "cell_type": "code",
   "execution_count": null,
   "metadata": {},
   "outputs": [],
   "source": [
    "correct_predictions = 0\n",
    "total = len(dataset)\n",
    "\n",
    "for idx, entry in enumerate(dataset):\n",
    "    # Get logits for the prompt\n",
    "    logits = model.run_with_cache(entry[\"prompt\"], return_type=\"logits\")\n",
    "    \n",
    "    # Get probabilities for the last position\n",
    "    probs = torch.softmax(logits[0][0,-1,:], dim=-1)\n",
    "    \n",
    "    # Get token IDs for \" A\" and \" B\"\n",
    "    token_A = 586  # Usually will be around 586\n",
    "    token_B = 599  # Usually will be around 599\n",
    "    \n",
    "    # Get the model's prediction (A or B based on higher probability)\n",
    "    pred = \"A\" if probs[token_A] > probs[token_B] else \"B\"\n",
    "    \n",
    "    # Compare with correct answer\n",
    "    is_correct = pred == entry[\"correct_answer\"]\n",
    "    correct_predictions += int(is_correct)\n",
    "    \n",
    "    print(f\"Entry {idx}: Predicted {pred}, Correct {entry['correct_answer']}, \"\n",
    "          f\"Prob A: {probs[token_A]:.3f}, Prob B: {probs[token_B]:.3f}, \"\n",
    "          f\"{'✓' if is_correct else '✗'}\")\n",
    "\n",
    "accuracy = correct_predictions / total\n",
    "print(f\"\\nOverall accuracy: {accuracy:.2%}\")"
   ]
  },
  {
   "cell_type": "code",
   "execution_count": null,
   "metadata": {},
   "outputs": [],
   "source": [
    "from data.mft_dim import get_moral_statements\n",
    "moral_statements = get_moral_statements(dimension=\"care\", moral=True)\n",
    "moral_statements"
   ]
  },
  {
   "cell_type": "code",
   "execution_count": null,
   "metadata": {},
   "outputs": [],
   "source": [
    "utils.test_prompt(moral_statements[0][\"prompt\"], \"agree\", model)"
   ]
  },
  {
   "cell_type": "code",
   "execution_count": null,
   "metadata": {},
   "outputs": [],
   "source": [
    "model.to_tokens(\"agree\")"
   ]
  },
  {
   "cell_type": "code",
   "execution_count": 19,
   "metadata": {},
   "outputs": [],
   "source": [
    "prompt = \"Do you agree or disagree with the following Statement: One should never come to the aid of a stranger in distress. Moral dimension: care. Do agree or disagree? (max 15 words) \""
   ]
  },
  {
   "cell_type": "code",
   "execution_count": null,
   "metadata": {},
   "outputs": [],
   "source": [
    "model.eval()  # Ensure the model is in evaluation mode\n",
    "\n",
    "# Generate tokens\n",
    "num_tokens_to_generate = 60\n",
    "generated_text = model.generate(prompt, max_new_tokens=num_tokens_to_generate)\n",
    "\n",
    "# Print the generated text\n",
    "print(generated_text)"
   ]
  },
  {
   "cell_type": "code",
   "execution_count": null,
   "metadata": {},
   "outputs": [],
   "source": [
    "prompt"
   ]
  },
  {
   "cell_type": "code",
   "execution_count": null,
   "metadata": {},
   "outputs": [],
   "source": [
    "# Initialize lists to store probabilities\n",
    "agree_probs = []\n",
    "disagree_probs = []\n",
    "generated_tokens = []\n",
    "\n",
    "# Get initial tokens\n",
    "tokens = model.to_tokens(prompt)\n",
    "initial_len = tokens.shape[1]\n",
    "\n",
    "# Generate one token at a time and get probabilities\n",
    "for i in range(num_tokens_to_generate):\n",
    "    # Get logits for next token\n",
    "    logits = model(tokens)[:,-1]\n",
    "    probs = torch.softmax(logits, dim=-1)\n",
    "    \n",
    "    # Get probabilities for agree/disagree tokens\n",
    "    agree_token = model.to_tokens(\" agree\")[0,1]  \n",
    "    disagree_token = model.to_tokens(\" disagree\")[0,1]\n",
    "    \n",
    "    agree_prob = probs[0,agree_token].item()\n",
    "    disagree_prob = probs[0,disagree_token].item()\n",
    "    \n",
    "    agree_probs.append(agree_prob)\n",
    "    disagree_probs.append(disagree_prob)\n",
    "    \n",
    "    # Sample next token\n",
    "    next_token = torch.multinomial(probs[0], num_samples=1)\n",
    "    tokens = torch.cat([tokens, next_token.unsqueeze(0)], dim=1)\n",
    "    \n",
    "    # Store generated token\n",
    "    generated_tokens.append(model.to_string(next_token.unsqueeze(0)))\n",
    "    \n",
    "    # Break if EOS token generated\n",
    "    if next_token.item() == model.tokenizer.eos_token_id:\n",
    "        break\n",
    "\n",
    "# Print probabilities and tokens at each step\n",
    "for i, (token, agree_p, disagree_p) in enumerate(zip(generated_tokens, agree_probs, disagree_probs)):\n",
    "    print(f\"Position {i+initial_len} ({token}): Agree prob: {agree_p:.3f}, Disagree prob: {disagree_p:.3f}\")\n"
   ]
  },
  {
   "cell_type": "code",
   "execution_count": null,
   "metadata": {},
   "outputs": [],
   "source": [
    "\n",
    "# Calculate total probabilities\n",
    "total_agree = sum(agree_probs)\n",
    "total_disagree = sum(disagree_probs)\n",
    "mean_agree = total_agree / len(agree_probs)\n",
    "mean_disagree = total_disagree / len(disagree_probs)\n",
    "highest_agree = max(agree_probs)\n",
    "highest_disagree = max(disagree_probs)\n",
    "\n",
    "print(f\"\\nMean probability for Agree: {mean_agree:.3f}\")\n",
    "print(f\"Mean probability for Disagree: {mean_disagree:.3f}\")\n",
    "\n",
    "print(f\"Highest probability for Agree: {highest_agree:.3f}\")\n",
    "print(f\"Highest probability for Disagree: {highest_disagree:.3f}\")\n",
    "\n",
    "print(f\"Total probability for Agree: {total_agree:.3f}\")\n",
    "print(f\"Total probability for Disagree: {total_disagree:.3f}\")\n",
    "\n",
    "\n"
   ]
  },
  {
   "cell_type": "code",
   "execution_count": null,
   "metadata": {},
   "outputs": [],
   "source": []
  },
  {
   "cell_type": "markdown",
   "metadata": {},
   "source": [
    "### Moral Analyzer whole sequence"
   ]
  },
  {
   "cell_type": "code",
   "execution_count": 1,
   "metadata": {},
   "outputs": [],
   "source": [
    "%load_ext autoreload\n",
    "%autoreload 2"
   ]
  },
  {
   "cell_type": "code",
   "execution_count": 2,
   "metadata": {},
   "outputs": [],
   "source": [
    "import sys\n",
    "import os\n",
    "sys.path.append(os.path.abspath('..'))\n",
    "from data.mft_dim import moral_foundations, generate_mc_prompts, get_moral_statements\n",
    "from src.analysis.moral_analyzer import MoralBehaviorAnalyzer\n",
    "from transformer_lens import HookedTransformer"
   ]
  },
  {
   "cell_type": "code",
   "execution_count": null,
   "metadata": {},
   "outputs": [],
   "source": [
    "model = HookedTransformer.from_pretrained(\"google/gemma-2-9b-it\")"
   ]
  },
  {
   "cell_type": "code",
   "execution_count": null,
   "metadata": {},
   "outputs": [],
   "source": [
    "analyzer = MoralBehaviorAnalyzer(model)"
   ]
  },
  {
   "cell_type": "code",
   "execution_count": null,
   "metadata": {},
   "outputs": [],
   "source": [
    "# Data list of moral statements and immoral statements\n",
    "moral_statements = get_moral_statements(dimension=\"care\", moral=True)\n",
    "immoral_statements = get_moral_statements(dimension=\"care\", moral=False)\n",
    "\n",
    "moral_pairs = [(statement[\"statement\"], immoral_statements[i][\"statement\"]) for i, statement in enumerate(moral_statements)]\n",
    "\n",
    "moral_pairs[0]"
   ]
  },
  {
   "cell_type": "code",
   "execution_count": null,
   "metadata": {},
   "outputs": [],
   "source": [
    "moral_pairs[1]"
   ]
  },
  {
   "cell_type": "code",
   "execution_count": null,
   "metadata": {},
   "outputs": [],
   "source": [
    "results = analyzer.analyze_moral_behavior(\n",
    "    moral_pairs,\n",
    "    temporal_window=5\n",
    ")"
   ]
  },
  {
   "cell_type": "code",
   "execution_count": null,
   "metadata": {},
   "outputs": [],
   "source": [
    "results"
   ]
  },
  {
   "cell_type": "code",
   "execution_count": null,
   "metadata": {},
   "outputs": [],
   "source": []
  }
 ],
 "metadata": {
  "kernelspec": {
   "display_name": "mech",
   "language": "python",
   "name": "python3"
  },
  "language_info": {
   "codemirror_mode": {
    "name": "ipython",
    "version": 3
   },
   "file_extension": ".py",
   "mimetype": "text/x-python",
   "name": "python",
   "nbconvert_exporter": "python",
   "pygments_lexer": "ipython3",
   "version": "3.10.15"
  }
 },
 "nbformat": 4,
 "nbformat_minor": 2
}
